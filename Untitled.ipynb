{
 "cells": [
  {
   "cell_type": "code",
   "execution_count": 1,
   "id": "32cdfbdd",
   "metadata": {},
   "outputs": [
    {
     "name": "stderr",
     "output_type": "stream",
     "text": [
      "┌ Warning: no Manifest.toml file found, static paths used\n",
      "└ @ Revise /Users/ksb/.julia/packages/Revise/9lZUE/src/packagedef.jl:1369\n",
      "┌ Info: Precompiling Poly [e09f2dfe-59e6-4dd4-bdd5-ac2e3c02424c]\n",
      "└ @ Base loading.jl:1317\n"
     ]
    },
    {
     "data": {
      "text/plain": [
       "#1 (generic function with 1 method)"
      ]
     },
     "execution_count": 1,
     "metadata": {},
     "output_type": "execute_result"
    }
   ],
   "source": [
    "using Revise\n",
    "using Poly \n",
    "show_ = p -> display(\"text/latex\",p)"
   ]
  },
  {
   "cell_type": "code",
   "execution_count": 2,
   "id": "9caf8c29",
   "metadata": {},
   "outputs": [
    {
     "data": {
      "text/latex": [
       "$ S y ^{B} + S⋅A y ^{S} $"
      ]
     },
     "metadata": {},
     "output_type": "display_data"
    }
   ],
   "source": [
    "p = SumProdPoly{Symbol}([ [[:B]] => [:S], [[:S]] => [:S,:A] ])\n",
    "show_(p)"
   ]
  },
  {
   "cell_type": "code",
   "execution_count": 11,
   "id": "80e8ecbb",
   "metadata": {},
   "outputs": [
    {
     "data": {
      "text/latex": [
       "$ S⋅S y ^{B+B} + S⋅A⋅S y ^{S+B} + S⋅S⋅A y ^{B+S} + S⋅A⋅S⋅A y ^{S+S} $"
      ]
     },
     "metadata": {},
     "output_type": "display_data"
    }
   ],
   "source": [
    "show_(p*p)"
   ]
  },
  {
   "cell_type": "code",
   "execution_count": 12,
   "id": "bae86f9e",
   "metadata": {},
   "outputs": [
    {
     "data": {
      "text/latex": [
       "$ S⋅S y ^{B⋅B} + S⋅A⋅S y ^{S⋅B} + S⋅S⋅A y ^{B⋅S} + S⋅A⋅S⋅A y ^{S⋅S} $"
      ]
     },
     "metadata": {},
     "output_type": "display_data"
    }
   ],
   "source": [
    "show_(p⊗p)"
   ]
  }
 ],
 "metadata": {
  "kernelspec": {
   "display_name": "Julia 1.6.1",
   "language": "julia",
   "name": "julia-1.6"
  },
  "language_info": {
   "file_extension": ".jl",
   "mimetype": "application/julia",
   "name": "julia",
   "version": "1.6.1"
  }
 },
 "nbformat": 4,
 "nbformat_minor": 5
}
